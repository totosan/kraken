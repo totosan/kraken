{
 "cells": [
  {
   "cell_type": "code",
   "execution_count": 1,
   "metadata": {},
   "outputs": [],
   "source": [
    "from datetime import datetime\n",
    "from  os import name, path\n",
    "from io import StringIO\n",
    "from time import sleep\n",
    "import json\n",
    "\n",
    "import utils\n",
    "from pipe import sort\n",
    "import pprint \n",
    "from AvailableBalances import AvailableBalance\n",
    "from Ledgers import Ledgers\n",
    "import Orders\n",
    "import Trades  \n",
    "import pandas as pd"
   ]
  },
  {
   "cell_type": "code",
   "execution_count": 2,
   "metadata": {},
   "outputs": [
    {
     "name": "stdout",
     "output_type": "stream",
     "text": [
      "   Currency            Balance\n",
      "16      ADA      1199.49426473\n",
      "20    MATIC       2.8903747200\n",
      "3       TRX         8.89447921\n",
      "29     XXLM         8.23315119\n",
      "22     XXRP         0.78177634\n",
      "26     ZEUR  1670.732999996286\n"
     ]
    }
   ],
   "source": [
    "av = AvailableBalance()\n",
    "bal = av.get_avalailable_balances().sort_values('Currency')\n",
    "balanceResult = bal[bal['Balance']>0.1]\n",
    "print(balanceResult)\n"
   ]
  },
  {
   "cell_type": "markdown",
   "metadata": {},
   "source": [
    "### Get balances together with currency details"
   ]
  },
  {
   "cell_type": "code",
   "execution_count": 3,
   "metadata": {},
   "outputs": [
    {
     "data": {
      "text/html": [
       "<div>\n",
       "<style scoped>\n",
       "    .dataframe tbody tr th:only-of-type {\n",
       "        vertical-align: middle;\n",
       "    }\n",
       "\n",
       "    .dataframe tbody tr th {\n",
       "        vertical-align: top;\n",
       "    }\n",
       "\n",
       "    .dataframe thead th {\n",
       "        text-align: right;\n",
       "    }\n",
       "</style>\n",
       "<table border=\"1\" class=\"dataframe\">\n",
       "  <thead>\n",
       "    <tr style=\"text-align: right;\">\n",
       "      <th></th>\n",
       "      <th>altname</th>\n",
       "      <th>decimals</th>\n",
       "      <th>display_decimals</th>\n",
       "      <th>name</th>\n",
       "      <th>Balance</th>\n",
       "    </tr>\n",
       "  </thead>\n",
       "  <tbody>\n",
       "    <tr>\n",
       "      <th>0</th>\n",
       "      <td>ADA</td>\n",
       "      <td>8</td>\n",
       "      <td>6</td>\n",
       "      <td>ADA</td>\n",
       "      <td>1199.49426473</td>\n",
       "    </tr>\n",
       "    <tr>\n",
       "      <th>1</th>\n",
       "      <td>MATIC</td>\n",
       "      <td>10</td>\n",
       "      <td>5</td>\n",
       "      <td>MATIC</td>\n",
       "      <td>2.8903747200</td>\n",
       "    </tr>\n",
       "    <tr>\n",
       "      <th>2</th>\n",
       "      <td>TRX</td>\n",
       "      <td>8</td>\n",
       "      <td>6</td>\n",
       "      <td>TRX</td>\n",
       "      <td>8.89447921</td>\n",
       "    </tr>\n",
       "    <tr>\n",
       "      <th>3</th>\n",
       "      <td>XLM</td>\n",
       "      <td>8</td>\n",
       "      <td>5</td>\n",
       "      <td>XXLM</td>\n",
       "      <td>8.23315119</td>\n",
       "    </tr>\n",
       "    <tr>\n",
       "      <th>4</th>\n",
       "      <td>XRP</td>\n",
       "      <td>8</td>\n",
       "      <td>5</td>\n",
       "      <td>XXRP</td>\n",
       "      <td>0.78177634</td>\n",
       "    </tr>\n",
       "    <tr>\n",
       "      <th>5</th>\n",
       "      <td>EUR</td>\n",
       "      <td>4</td>\n",
       "      <td>2</td>\n",
       "      <td>ZEUR</td>\n",
       "      <td>1670.732999996286</td>\n",
       "    </tr>\n",
       "  </tbody>\n",
       "</table>\n",
       "</div>"
      ],
      "text/plain": [
       "  altname  decimals  display_decimals   name            Balance\n",
       "0     ADA         8                 6    ADA      1199.49426473\n",
       "1   MATIC        10                 5  MATIC       2.8903747200\n",
       "2     TRX         8                 6    TRX         8.89447921\n",
       "3     XLM         8                 5   XXLM         8.23315119\n",
       "4     XRP         8                 5   XXRP         0.78177634\n",
       "5     EUR         4                 2   ZEUR  1670.732999996286"
      ]
     },
     "execution_count": 3,
     "metadata": {},
     "output_type": "execute_result"
    }
   ],
   "source": [
    "marketData = pd.DataFrame(av.Market)\n",
    "merged = pd.merge(marketData, balanceResult,left_on='name',right_on='Currency')\n",
    "merged.drop(columns=[\"Currency\",\"aclass\"])"
   ]
  },
  {
   "cell_type": "markdown",
   "metadata": {},
   "source": [
    "### Download history trade data\n",
    "- report_id will be persisted in ./data/report_<ledger|trades>.json\n",
    "- if report_id already available, download report from API\n",
    "- if there is no report_id, request report at kraken and wait for being ready for download"
   ]
  },
  {
   "cell_type": "code",
   "execution_count": 4,
   "metadata": {},
   "outputs": [
    {
     "name": "stdout",
     "output_type": "stream",
     "text": [
      "\n",
      "trades history:\n",
      "-------------------\n",
      "{'ofs': 0, 'trades': True}\n",
      "Open Zip-File fore reading trades\n",
      "                  txid            ordertxid    pair                      time  \\\n",
      "0  TYG3ZQ-7TPTH-C53PEY  OEWOU3-YY3OC-YK7EVN  DOTEUR   2021-02-13 08:05:20.067   \n",
      "1  TZCJGJ-VA5S4-7RLUKZ  OQGKP5-WNE4Q-ABADSG  DOTEUR  2021-02-23 09:08:11.8285   \n",
      "2  TLBXYT-GNG2O-W3RJDC  OUDGXV-SG7MW-P4GYJ7  DOTEUR  2021-02-23 11:17:21.1323   \n",
      "3  TBUJAA-75K4V-RPLWA3  OIBAPB-SUNTR-XPBDAE  DOTEUR  2021-02-23 13:46:23.5847   \n",
      "4  TFGX2M-M7B6A-SMD334  OUIQQD-EQN34-EVW6UA  DOTEUR  2021-02-23 14:19:05.1431   \n",
      "\n",
      "   type ordertype     price       cost       fee         vol  ...  \\\n",
      "0   buy     limit  24.00000  3993.6102   6.38978  166.400425  ...   \n",
      "1   buy     limit  23.50000  3525.0000   6.34500  150.000000  ...   \n",
      "2  sell    market  25.67218  3850.8270  10.01215  150.000000  ...   \n",
      "3  sell     limit  27.00000    27.0000   0.04860    1.000000  ...   \n",
      "4   buy     limit  28.20000    28.2000   0.04512    1.000000  ...   \n",
      "\n",
      "                                   ledgers              postxid posstatus  \\\n",
      "0  L35LIS-UQ7JF-TJPH7G,LAAS5I-DGCZF-U62UH2  TKH2SE-M7IF5-CFI7LT       NaN   \n",
      "1                      LLGGZ6-MLA6L-PB6ZPZ  TKH2SE-M7IF5-CFI7LT       NaN   \n",
      "2                      LXZSQO-J4GI5-GFSOK6  TZCJGJ-VA5S4-7RLUKZ       NaN   \n",
      "3                      LYVG4N-D3BZA-GQJFGZ  TKH2SE-M7IF5-CFI7LT       NaN   \n",
      "4                      LTW3YF-UYOAB-WMZWNC  TBUJAA-75K4V-RPLWA3       NaN   \n",
      "\n",
      "  cprice  ccost  cfee  cvol  cmargin  net  trades  \n",
      "0    NaN    NaN   NaN   NaN      NaN  NaN     NaN  \n",
      "1    NaN    NaN   NaN   NaN      NaN  NaN     NaN  \n",
      "2    NaN    NaN   NaN   NaN      NaN  NaN     NaN  \n",
      "3    NaN    NaN   NaN   NaN      NaN  NaN     NaN  \n",
      "4    NaN    NaN   NaN   NaN      NaN  NaN     NaN  \n",
      "\n",
      "[5 rows x 22 columns]\n"
     ]
    }
   ],
   "source": [
    "print()\n",
    "print(f'trades history:')\n",
    "print(\"-------------------\")\n",
    "th = Trades.TradeHistory()\n",
    "dataTrades = th.get_from_Export(startDate=utils.date2nix(datetime(2021,1,1)))\n",
    "print(dataTrades.head())"
   ]
  },
  {
   "cell_type": "markdown",
   "metadata": {},
   "source": [
    "### Download history ledger data"
   ]
  },
  {
   "cell_type": "code",
   "execution_count": 5,
   "metadata": {},
   "outputs": [
    {
     "name": "stdout",
     "output_type": "stream",
     "text": [
      "\n",
      "ledgers history:\n",
      "-------------------\n",
      "{'ofs': 0}\n",
      "Open Zip-File fore reading ledgers\n",
      "                  txid                  refid                 time     type  \\\n",
      "0                  NaN  QCCD2WM-SDW3XQ-UL7BIY  2021-02-11 06:12:28  deposit   \n",
      "1  LA5JWG-DL5YT-NJ3CDF  QCCD2WM-SDW3XQ-UL7BIY  2021-02-11 06:13:27  deposit   \n",
      "2  LAAS5I-DGCZF-U62UH2    TYG3ZQ-7TPTH-C53PEY  2021-02-13 08:05:20    trade   \n",
      "3  L35LIS-UQ7JF-TJPH7G    TYG3ZQ-7TPTH-C53PEY  2021-02-13 08:05:20    trade   \n",
      "4                  NaN  QCCZW7J-JVI25W-OOXEM3  2021-02-23 08:07:22  deposit   \n",
      "\n",
      "   subtype    aclass asset       amount     fee      balance  \n",
      "0      NaN  currency  ZEUR  4000.000000  0.0000          NaN  \n",
      "1      NaN  currency  ZEUR  4000.000000  0.0000  4000.000000  \n",
      "2      NaN  currency  ZEUR -3993.610200  6.3898     0.000000  \n",
      "3      NaN  currency   DOT   166.400425  0.0000   166.400425  \n",
      "4      NaN  currency  ZEUR  4000.000000  0.0000          NaN  \n"
     ]
    }
   ],
   "source": [
    "print()\n",
    "print(f'ledgers history:')\n",
    "print(\"-------------------\")\n",
    "ledger = Ledgers()\n",
    "dataLedger = ledger.get_from_Export(startDate=utils.date2nix(datetime(2021,1,1)))\n",
    "print(dataLedger.head())"
   ]
  },
  {
   "cell_type": "markdown",
   "metadata": {},
   "source": [
    "### Filter ledger data for currency from balance data"
   ]
  },
  {
   "cell_type": "code",
   "execution_count": 34,
   "metadata": {},
   "outputs": [
    {
     "ename": "KeyError",
     "evalue": "('txid', 'type')",
     "output_type": "error",
     "traceback": [
      "\u001b[0;31m---------------------------------------------------------------------------\u001b[0m",
      "\u001b[0;31mKeyError\u001b[0m                                  Traceback (most recent call last)",
      "\u001b[0;32m/workspaces/kraken/.venv/lib/python3.8/site-packages/pandas/core/indexes/base.py\u001b[0m in \u001b[0;36mget_loc\u001b[0;34m(self, key, method, tolerance)\u001b[0m\n\u001b[1;32m   3360\u001b[0m             \u001b[0;32mtry\u001b[0m\u001b[0;34m:\u001b[0m\u001b[0;34m\u001b[0m\u001b[0;34m\u001b[0m\u001b[0m\n\u001b[0;32m-> 3361\u001b[0;31m                 \u001b[0;32mreturn\u001b[0m \u001b[0mself\u001b[0m\u001b[0;34m.\u001b[0m\u001b[0m_engine\u001b[0m\u001b[0;34m.\u001b[0m\u001b[0mget_loc\u001b[0m\u001b[0;34m(\u001b[0m\u001b[0mcasted_key\u001b[0m\u001b[0;34m)\u001b[0m\u001b[0;34m\u001b[0m\u001b[0;34m\u001b[0m\u001b[0m\n\u001b[0m\u001b[1;32m   3362\u001b[0m             \u001b[0;32mexcept\u001b[0m \u001b[0mKeyError\u001b[0m \u001b[0;32mas\u001b[0m \u001b[0merr\u001b[0m\u001b[0;34m:\u001b[0m\u001b[0;34m\u001b[0m\u001b[0;34m\u001b[0m\u001b[0m\n",
      "\u001b[0;32m/workspaces/kraken/.venv/lib/python3.8/site-packages/pandas/_libs/index.pyx\u001b[0m in \u001b[0;36mpandas._libs.index.IndexEngine.get_loc\u001b[0;34m()\u001b[0m\n",
      "\u001b[0;32m/workspaces/kraken/.venv/lib/python3.8/site-packages/pandas/_libs/index.pyx\u001b[0m in \u001b[0;36mpandas._libs.index.IndexEngine.get_loc\u001b[0;34m()\u001b[0m\n",
      "\u001b[0;32mpandas/_libs/hashtable_class_helper.pxi\u001b[0m in \u001b[0;36mpandas._libs.hashtable.PyObjectHashTable.get_item\u001b[0;34m()\u001b[0m\n",
      "\u001b[0;32mpandas/_libs/hashtable_class_helper.pxi\u001b[0m in \u001b[0;36mpandas._libs.hashtable.PyObjectHashTable.get_item\u001b[0;34m()\u001b[0m\n",
      "\u001b[0;31mKeyError\u001b[0m: ('txid', 'type')",
      "\nThe above exception was the direct cause of the following exception:\n",
      "\u001b[0;31mKeyError\u001b[0m                                  Traceback (most recent call last)",
      "\u001b[0;32m/tmp/ipykernel_22504/1156632845.py\u001b[0m in \u001b[0;36m<module>\u001b[0;34m\u001b[0m\n\u001b[1;32m      2\u001b[0m     \u001b[0mmergedForBalance\u001b[0m\u001b[0;34m=\u001b[0m\u001b[0mpd\u001b[0m\u001b[0;34m.\u001b[0m\u001b[0mmerge\u001b[0m\u001b[0;34m(\u001b[0m\u001b[0mdataLedger\u001b[0m\u001b[0;34m,\u001b[0m \u001b[0mbalanceResult\u001b[0m\u001b[0;34m,\u001b[0m \u001b[0mleft_on\u001b[0m\u001b[0;34m=\u001b[0m\u001b[0;34m\"asset\"\u001b[0m\u001b[0;34m,\u001b[0m\u001b[0mright_on\u001b[0m\u001b[0;34m=\u001b[0m\u001b[0;34m\"Currency\"\u001b[0m\u001b[0;34m,\u001b[0m \u001b[0mhow\u001b[0m\u001b[0;34m=\u001b[0m\u001b[0;34m\"left\"\u001b[0m\u001b[0;34m)\u001b[0m\u001b[0;34m.\u001b[0m\u001b[0msort_values\u001b[0m\u001b[0;34m(\u001b[0m\u001b[0mby\u001b[0m\u001b[0;34m=\u001b[0m\u001b[0;34m\"time\"\u001b[0m\u001b[0;34m)\u001b[0m\u001b[0;34m\u001b[0m\u001b[0;34m\u001b[0m\u001b[0m\n\u001b[1;32m      3\u001b[0m     \u001b[0mmergedForBalance\u001b[0m\u001b[0;34m=\u001b[0m\u001b[0mmergedForBalance\u001b[0m\u001b[0;34m[\u001b[0m\u001b[0;34m~\u001b[0m\u001b[0mmergedForBalance\u001b[0m\u001b[0;34m[\u001b[0m\u001b[0;34m\"type\"\u001b[0m\u001b[0;34m]\u001b[0m\u001b[0;34m.\u001b[0m\u001b[0misin\u001b[0m\u001b[0;34m(\u001b[0m \u001b[0;34m[\u001b[0m\u001b[0;34m\"rollover\"\u001b[0m\u001b[0;34m,\u001b[0m\u001b[0;34m\"margin\"\u001b[0m\u001b[0;34m]\u001b[0m\u001b[0;34m)\u001b[0m\u001b[0;34m]\u001b[0m\u001b[0;34m\u001b[0m\u001b[0;34m\u001b[0m\u001b[0m\n\u001b[0;32m----> 4\u001b[0;31m     \u001b[0mmergedWithTrades\u001b[0m \u001b[0;34m=\u001b[0m \u001b[0mpd\u001b[0m\u001b[0;34m.\u001b[0m\u001b[0mmerge\u001b[0m\u001b[0;34m(\u001b[0m\u001b[0mmergedForBalance\u001b[0m\u001b[0;34m,\u001b[0m\u001b[0mdataTrades\u001b[0m\u001b[0;34m[\u001b[0m\u001b[0;34m\"txid\"\u001b[0m\u001b[0;34m,\u001b[0m\u001b[0;34m\"type\"\u001b[0m\u001b[0;34m]\u001b[0m\u001b[0;34m,\u001b[0m\u001b[0mleft_on\u001b[0m\u001b[0;34m=\u001b[0m\u001b[0;34m\"refid\"\u001b[0m\u001b[0;34m,\u001b[0m\u001b[0mright_on\u001b[0m\u001b[0;34m=\u001b[0m\u001b[0;34m\"txid\"\u001b[0m\u001b[0;34m)\u001b[0m\u001b[0;34m\u001b[0m\u001b[0;34m\u001b[0m\u001b[0m\n\u001b[0m\u001b[1;32m      5\u001b[0m     \u001b[0mmergedWithTrades\u001b[0m\u001b[0;34m.\u001b[0m\u001b[0mreindex\u001b[0m\u001b[0;34m(\u001b[0m\u001b[0mmergedForBalance\u001b[0m\u001b[0;34m.\u001b[0m\u001b[0mindex\u001b[0m\u001b[0;34m)\u001b[0m\u001b[0;34m\u001b[0m\u001b[0;34m\u001b[0m\u001b[0m\n",
      "\u001b[0;32m/workspaces/kraken/.venv/lib/python3.8/site-packages/pandas/core/frame.py\u001b[0m in \u001b[0;36m__getitem__\u001b[0;34m(self, key)\u001b[0m\n\u001b[1;32m   3456\u001b[0m             \u001b[0;32mif\u001b[0m \u001b[0mself\u001b[0m\u001b[0;34m.\u001b[0m\u001b[0mcolumns\u001b[0m\u001b[0;34m.\u001b[0m\u001b[0mnlevels\u001b[0m \u001b[0;34m>\u001b[0m \u001b[0;36m1\u001b[0m\u001b[0;34m:\u001b[0m\u001b[0;34m\u001b[0m\u001b[0;34m\u001b[0m\u001b[0m\n\u001b[1;32m   3457\u001b[0m                 \u001b[0;32mreturn\u001b[0m \u001b[0mself\u001b[0m\u001b[0;34m.\u001b[0m\u001b[0m_getitem_multilevel\u001b[0m\u001b[0;34m(\u001b[0m\u001b[0mkey\u001b[0m\u001b[0;34m)\u001b[0m\u001b[0;34m\u001b[0m\u001b[0;34m\u001b[0m\u001b[0m\n\u001b[0;32m-> 3458\u001b[0;31m             \u001b[0mindexer\u001b[0m \u001b[0;34m=\u001b[0m \u001b[0mself\u001b[0m\u001b[0;34m.\u001b[0m\u001b[0mcolumns\u001b[0m\u001b[0;34m.\u001b[0m\u001b[0mget_loc\u001b[0m\u001b[0;34m(\u001b[0m\u001b[0mkey\u001b[0m\u001b[0;34m)\u001b[0m\u001b[0;34m\u001b[0m\u001b[0;34m\u001b[0m\u001b[0m\n\u001b[0m\u001b[1;32m   3459\u001b[0m             \u001b[0;32mif\u001b[0m \u001b[0mis_integer\u001b[0m\u001b[0;34m(\u001b[0m\u001b[0mindexer\u001b[0m\u001b[0;34m)\u001b[0m\u001b[0;34m:\u001b[0m\u001b[0;34m\u001b[0m\u001b[0;34m\u001b[0m\u001b[0m\n\u001b[1;32m   3460\u001b[0m                 \u001b[0mindexer\u001b[0m \u001b[0;34m=\u001b[0m \u001b[0;34m[\u001b[0m\u001b[0mindexer\u001b[0m\u001b[0;34m]\u001b[0m\u001b[0;34m\u001b[0m\u001b[0;34m\u001b[0m\u001b[0m\n",
      "\u001b[0;32m/workspaces/kraken/.venv/lib/python3.8/site-packages/pandas/core/indexes/base.py\u001b[0m in \u001b[0;36mget_loc\u001b[0;34m(self, key, method, tolerance)\u001b[0m\n\u001b[1;32m   3361\u001b[0m                 \u001b[0;32mreturn\u001b[0m \u001b[0mself\u001b[0m\u001b[0;34m.\u001b[0m\u001b[0m_engine\u001b[0m\u001b[0;34m.\u001b[0m\u001b[0mget_loc\u001b[0m\u001b[0;34m(\u001b[0m\u001b[0mcasted_key\u001b[0m\u001b[0;34m)\u001b[0m\u001b[0;34m\u001b[0m\u001b[0;34m\u001b[0m\u001b[0m\n\u001b[1;32m   3362\u001b[0m             \u001b[0;32mexcept\u001b[0m \u001b[0mKeyError\u001b[0m \u001b[0;32mas\u001b[0m \u001b[0merr\u001b[0m\u001b[0;34m:\u001b[0m\u001b[0;34m\u001b[0m\u001b[0;34m\u001b[0m\u001b[0m\n\u001b[0;32m-> 3363\u001b[0;31m                 \u001b[0;32mraise\u001b[0m \u001b[0mKeyError\u001b[0m\u001b[0;34m(\u001b[0m\u001b[0mkey\u001b[0m\u001b[0;34m)\u001b[0m \u001b[0;32mfrom\u001b[0m \u001b[0merr\u001b[0m\u001b[0;34m\u001b[0m\u001b[0;34m\u001b[0m\u001b[0m\n\u001b[0m\u001b[1;32m   3364\u001b[0m \u001b[0;34m\u001b[0m\u001b[0m\n\u001b[1;32m   3365\u001b[0m         \u001b[0;32mif\u001b[0m \u001b[0mis_scalar\u001b[0m\u001b[0;34m(\u001b[0m\u001b[0mkey\u001b[0m\u001b[0;34m)\u001b[0m \u001b[0;32mand\u001b[0m \u001b[0misna\u001b[0m\u001b[0;34m(\u001b[0m\u001b[0mkey\u001b[0m\u001b[0;34m)\u001b[0m \u001b[0;32mand\u001b[0m \u001b[0;32mnot\u001b[0m \u001b[0mself\u001b[0m\u001b[0;34m.\u001b[0m\u001b[0mhasnans\u001b[0m\u001b[0;34m:\u001b[0m\u001b[0;34m\u001b[0m\u001b[0;34m\u001b[0m\u001b[0m\n",
      "\u001b[0;31mKeyError\u001b[0m: ('txid', 'type')"
     ]
    }
   ],
   "source": [
    "if(not dataLedger is None):\n",
    "    mergedForBalance=pd.merge(dataLedger, balanceResult, left_on=\"asset\",right_on=\"Currency\", how=\"left\").sort_values(by=\"time\")\n",
    "    mergedForBalance=mergedForBalance[~mergedForBalance[\"type\"].isin( [\"rollover\",\"margin\"])]\n",
    "    mergedWithTrades = pd.merge(mergedForBalance,dataTrades[\"txid\",\"type\"],left_on=\"refid\",right_on=\"txid\")\n",
    "    mergedWithTrades.reindex(mergedForBalance.index)"
   ]
  }
 ],
 "metadata": {
  "interpreter": {
   "hash": "a40b2f0cdf9edadd3d5cf7e73ff0687f8778eb9bda52a6b6f1041407f4619e1c"
  },
  "kernelspec": {
   "display_name": "Python 3.8.6 64-bit ('.venv': venv)",
   "language": "python",
   "name": "python3"
  },
  "language_info": {
   "codemirror_mode": {
    "name": "ipython",
    "version": 3
   },
   "file_extension": ".py",
   "mimetype": "text/x-python",
   "name": "python",
   "nbconvert_exporter": "python",
   "pygments_lexer": "ipython3",
   "version": "3.8.6"
  },
  "orig_nbformat": 4
 },
 "nbformat": 4,
 "nbformat_minor": 2
}
