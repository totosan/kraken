{
 "cells": [
  {
   "cell_type": "code",
   "execution_count": 1,
   "metadata": {},
   "outputs": [],
   "source": [
    "from datetime import datetime\n",
    "from  os import name, path\n",
    "from io import StringIO\n",
    "from time import sleep\n",
    "import json\n",
    "\n",
    "import utils\n",
    "from pipe import sort\n",
    "import pprint \n",
    "from AvailableBalances import AvailableBalance\n",
    "from Ledgers import Ledgers\n",
    "import Orders\n",
    "import Trades  "
   ]
  },
  {
   "cell_type": "code",
   "execution_count": 3,
   "metadata": {},
   "outputs": [
    {
     "name": "stdout",
     "output_type": "stream",
     "text": [
      "OrderedDict([('AAVE', Decimal('0E-10')),\n",
      "             ('ADA', Decimal('1199.49426473')),\n",
      "             ('BAND', Decimal('0E-10')),\n",
      "             ('CRV', Decimal('0E-10')),\n",
      "             ('DOT', Decimal('0E-10')),\n",
      "             ('EOS', Decimal('0E-10')),\n",
      "             ('EUR.HOLD', Decimal('0.0000')),\n",
      "             ('EWT', Decimal('0E-10')),\n",
      "             ('FIL', Decimal('0E-10')),\n",
      "             ('GNO', Decimal('0E-10')),\n",
      "             ('GRT', Decimal('0E-10')),\n",
      "             ('ICX', Decimal('0E-10')),\n",
      "             ('KAVA', Decimal('0E-8')),\n",
      "             ('KSM', Decimal('0E-10')),\n",
      "             ('MATIC', Decimal('2.8903747200')),\n",
      "             ('OCEAN', Decimal('1.00E-8')),\n",
      "             ('OXT', Decimal('0E-10')),\n",
      "             ('PAXG', Decimal('0E-10')),\n",
      "             ('QTUM', Decimal('0E-10')),\n",
      "             ('RARI', Decimal('0E-10')),\n",
      "             ('SAND', Decimal('0E-10')),\n",
      "             ('STORJ', Decimal('0E-10')),\n",
      "             ('TRX', Decimal('8.89447921')),\n",
      "             ('USDC', Decimal('0E-8')),\n",
      "             ('USDT', Decimal('0E-8')),\n",
      "             ('WAVES', Decimal('0E-10')),\n",
      "             ('XETH', Decimal('6.5E-9')),\n",
      "             ('XXBT', Decimal('0.06772719566541440')),\n",
      "             ('XXDG', Decimal('0E-8')),\n",
      "             ('XXLM', Decimal('8.23315119')),\n",
      "             ('XXRP', Decimal('0.78177634')),\n",
      "             ('YFI', Decimal('0E-10')),\n",
      "             ('ZEUR', Decimal('2683.995499982738'))])\n"
     ]
    }
   ],
   "source": [
    "av = AvailableBalance()\n",
    "bal = av.get_avalailable_balances()\n",
    "pprint.pprint(bal) "
   ]
  }
 ],
 "metadata": {
  "interpreter": {
   "hash": "a40b2f0cdf9edadd3d5cf7e73ff0687f8778eb9bda52a6b6f1041407f4619e1c"
  },
  "kernelspec": {
   "display_name": "Python 3.8.6 64-bit ('.venv': venv)",
   "language": "python",
   "name": "python3"
  },
  "language_info": {
   "codemirror_mode": {
    "name": "ipython",
    "version": 3
   },
   "file_extension": ".py",
   "mimetype": "text/x-python",
   "name": "python",
   "nbconvert_exporter": "python",
   "pygments_lexer": "ipython3",
   "version": "3.8.6"
  },
  "orig_nbformat": 4
 },
 "nbformat": 4,
 "nbformat_minor": 2
}
