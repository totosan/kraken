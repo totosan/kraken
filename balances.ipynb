{
 "cells": [
  {
   "cell_type": "code",
   "execution_count": null,
   "metadata": {},
   "outputs": [],
   "source": [
    "from datetime import datetime\n",
    "from  os import name, path\n",
    "from io import StringIO\n",
    "from time import sleep\n",
    "import json\n",
    "\n",
    "import utils\n",
    "from pipe import sort\n",
    "import pprint \n",
    "from AvailableBalances import AvailableBalance\n",
    "from Ledgers import Ledgers\n",
    "import Orders\n",
    "import Trades  \n",
    "import pandas as pd"
   ]
  },
  {
   "cell_type": "code",
   "execution_count": null,
   "metadata": {},
   "outputs": [],
   "source": [
    "av = AvailableBalance()\n",
    "bal = av.get_avalailable_balances().sort_values('Currency')\n",
    "balanceResult = bal[bal['Balance']>0.1]\n",
    "print(balanceResult)\n"
   ]
  },
  {
   "cell_type": "markdown",
   "metadata": {},
   "source": [
    "### Get balances together with currency details"
   ]
  },
  {
   "cell_type": "code",
   "execution_count": null,
   "metadata": {},
   "outputs": [],
   "source": [
    "marketData = pd.DataFrame(av.Market)\n",
    "merged = pd.merge(marketData, balanceResult,left_on='name',right_on='Currency')\n",
    "merged.drop(columns=[\"Currency\",\"aclass\"])"
   ]
  },
  {
   "cell_type": "markdown",
   "metadata": {},
   "source": [
    "### Download history trade data\n",
    "- report_id will be persisted in ./data/report_<ledger|trades>.json\n",
    "- if report_id already available, download report from API\n",
    "- if there is no report_id, request report at kraken and wait for being ready for download"
   ]
  },
  {
   "cell_type": "code",
   "execution_count": null,
   "metadata": {},
   "outputs": [],
   "source": [
    "print()\n",
    "print(f'trades history:')\n",
    "print(\"-------------------\")\n",
    "th = Trades.TradeHistory()\n",
    "dataTrades = th.get_from_Export(startDate=utils.date2nix(datetime(2021,1,1)))\n",
    "print(dataTrades.head())"
   ]
  },
  {
   "cell_type": "markdown",
   "metadata": {},
   "source": [
    "### Download history ledger data"
   ]
  },
  {
   "cell_type": "code",
   "execution_count": null,
   "metadata": {},
   "outputs": [],
   "source": [
    "print()\n",
    "print(f'ledgers history:')\n",
    "print(\"-------------------\")\n",
    "ledger = Ledgers()\n",
    "dataLedger = ledger.get_from_Export(startDate=utils.date2nix(datetime(2021,1,1)))\n",
    "print(dataLedger.head())"
   ]
  },
  {
   "cell_type": "markdown",
   "metadata": {},
   "source": [
    "### Filter ledger data for currency from balance data"
   ]
  },
  {
   "cell_type": "code",
   "execution_count": null,
   "metadata": {},
   "outputs": [],
   "source": [
    "if(not dataLedger is None):\n",
    "    mergedForBalance=pd.merge(dataLedger, balanceResult, left_on=\"asset\",right_on=\"Currency\", how=\"left\").sort_values(by=\"time\")\n",
    "    mergedForBalance=mergedForBalance[~mergedForBalance[\"type\"].isin( [\"rollover\",\"margin\"])]\n",
    "    mergedWithTrades = pd.merge(mergedForBalance,dataTrades[['txid','type','price','cost']],left_on=\"refid\",right_on=\"txid\")\n",
    "    mergedWithTrades.reindex(mergedForBalance.index)"
   ]
  }
 ],
 "metadata": {
  "interpreter": {
   "hash": "a40b2f0cdf9edadd3d5cf7e73ff0687f8778eb9bda52a6b6f1041407f4619e1c"
  },
  "kernelspec": {
   "display_name": "Python 3.8.6 64-bit ('.venv': venv)",
   "language": "python",
   "name": "python3"
  },
  "language_info": {
   "codemirror_mode": {
    "name": "ipython",
    "version": 3
   },
   "file_extension": ".py",
   "mimetype": "text/x-python",
   "name": "python",
   "nbconvert_exporter": "python",
   "pygments_lexer": "ipython3",
   "version": "3.8.6"
  },
  "orig_nbformat": 4
 },
 "nbformat": 4,
 "nbformat_minor": 2
}
